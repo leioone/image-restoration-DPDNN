{
 "cells": [
  {
   "cell_type": "code",
   "execution_count": 1,
   "metadata": {},
   "outputs": [],
   "source": [
    "import os\n",
    "import numpy as np\n",
    "import tensorflow as tf\n",
    "from tensorflow.keras import Model, layers\n",
    "import tensorflow.keras as keras\n"
   ]
  },
  {
   "cell_type": "code",
   "execution_count": 2,
   "metadata": {},
   "outputs": [],
   "source": [
    "os.environ[\"CUDA_VISIBLE_DEVICES\"]=\"0\""
   ]
  },
  {
   "cell_type": "code",
   "execution_count": null,
   "metadata": {},
   "outputs": [],
   "source": []
  },
  {
   "cell_type": "markdown",
   "metadata": {},
   "source": [
    "# Layers"
   ]
  },
  {
   "cell_type": "code",
   "execution_count": 3,
   "metadata": {},
   "outputs": [],
   "source": [
    "class FeatureEncoder(layers.Layer):\n",
    "    def __init__(self, out_channels, kernel_size):\n",
    "        super(FeatureEncoder, self).__init__()\n",
    "        self.conv = keras.Sequential([\n",
    "                layers.Conv2D(filters=out_channels, kernel_size=kernel_size, padding='same', activation='relu'),\n",
    "                layers.Conv2D(filters=out_channels, kernel_size=kernel_size, padding='same', activation='relu'),\n",
    "                layers.Conv2D(filters=out_channels, kernel_size=kernel_size, padding='same', activation='relu')\n",
    "                ])\n",
    "        \n",
    "        self.fe_down = layers.Conv2D(filters=out_channels, kernel_size=kernel_size, strides=2, padding='same',\n",
    "                                            activation='relu')\n",
    "        \n",
    "    def call(self, x):\n",
    "        x = self.conv(x)\n",
    "        f = x\n",
    "        x = self.fe_down(x)\n",
    "        return f, x\n",
    "    \n",
    "class FeatureDecoder(layers.Layer):\n",
    "    def __init__(self, out_channels, kernel_size):\n",
    "        super(FeatureDecoder, self).__init__()\n",
    "        self.de_up = layers.Conv2DTranspose(filters=out_channels, kernel_size=kernel_size, strides=2, \n",
    "                                             padding='same', output_padding=1)\n",
    "        \n",
    "        self.conv_first = layers.Conv2D(filters=out_channels, kernel_size=1, padding='same', activation='relu')\n",
    "        self.conv = keras.Sequential([\n",
    "                layers.Conv2D(filters=out_channels, kernel_size=kernel_size, padding='same', activation='relu'),\n",
    "                layers.Conv2D(filters=out_channels, kernel_size=kernel_size, padding='same', activation='relu'),\n",
    "                layers.Conv2D(filters=out_channels, kernel_size=kernel_size, padding='same', activation='relu')\n",
    "            ])\n",
    "        self.conv_last = layers.Conv2D(filters=out_channels, kernel_size=kernel_size, padding='same')\n",
    "\n",
    "    def call(self, x, down_tensor):\n",
    "        x = self.de_up(x)\n",
    "        \n",
    "        # Calculate cropping for down_tensor to concatenate with x\n",
    "        _, h2, w2, _ = down_tensor.shape\n",
    "        _, h1, w1, _ = x.shape\n",
    "        h_diff, w_diff = h2 - h1, w2 - w1\n",
    "        \n",
    "        cropping = ((int(np.ceil(h_diff / 2)), int(np.floor(h_diff / 2))),\n",
    "                    (int(np.ceil(w_diff / 2)), int(np.floor(w_diff / 2))))\n",
    "        down_tensor = layers.Cropping2D(cropping=cropping)(down_tensor)        \n",
    "        x = layers.concatenate([x, down_tensor], axis=3)\n",
    "        \n",
    "        x = self.conv_first(x)\n",
    "        x = self.conv(x)\n",
    "        x = self.conv_last(x)\n",
    "        return x"
   ]
  },
  {
   "cell_type": "markdown",
   "metadata": {},
   "source": [
    "# Model"
   ]
  },
  {
   "cell_type": "code",
   "execution_count": 4,
   "metadata": {},
   "outputs": [],
   "source": [
    "class DPDNN(Model):\n",
    "    def __init__(self):\n",
    "        super(DPDNN, self).__init__()\n",
    "        self.fe1 = FeatureEncoder(out_channels=64, kernel_size=3)\n",
    "        self.fe2 = FeatureEncoder(out_channels=64, kernel_size=3)\n",
    "        self.fe3 = FeatureEncoder(out_channels=64, kernel_size=3)\n",
    "        self.fe4 = FeatureEncoder(out_channels=64, kernel_size=3)\n",
    "        self.fe_end = layers.Conv2D(filters=64, kernel_size=3, padding='same', activation='relu')\n",
    "        \n",
    "        self.de4 = FeatureDecoder(out_channels=64, kernel_size=3)\n",
    "        self.de3 = FeatureDecoder(out_channels=64, kernel_size=3)\n",
    "        self.de2 = FeatureDecoder(out_channels=64, kernel_size=3)\n",
    "        self.de1 = FeatureDecoder(out_channels=64, kernel_size=3)\n",
    "        self.de_end = layers.Conv2D(filters=1, kernel_size=3, padding='same')\n",
    "        \n",
    "        # Defining learnable parameters\n",
    "        self.delta_1 = tf.Variable(0.1, trainable=True)\n",
    "        self.eta_1 = tf.Variable(0.9, trainable=True)\n",
    "        \n",
    "        self.delta_2 = tf.Variable(0.1, trainable=True)\n",
    "        self.eta_2 = tf.Variable(0.9, trainable=True)\n",
    "        \n",
    "        self.delta_3 = tf.Variable(0.1, trainable=True)\n",
    "        self.eta_3 = tf.Variable(0.9, trainable=True)\n",
    "        \n",
    "        self.delta_4 = tf.Variable(0.1, trainable=True)\n",
    "        self.eta_4 = tf.Variable(0.9, trainable=True)\n",
    "        \n",
    "        self.delta_5 = tf.Variable(0.1, trainable=True)\n",
    "        self.eta_5 = tf.Variable(0.9, trainable=True)\n",
    "        \n",
    "        self.delta_6 = tf.Variable(0.1, trainable=True)\n",
    "        self.eta_6 = tf.Variable(0.9, trainable=True)\n",
    "\n",
    "    \n",
    "    def call(self, x):\n",
    "        y = x\n",
    "        \n",
    "        for i in range(6):\n",
    "            f1, out = self.fe1(x)\n",
    "            f2, out = self.fe2(out)\n",
    "            f3, out = self.fe3(out)\n",
    "            f4, out = self.fe4(out)\n",
    "            out = self.fe_end(out)\n",
    "\n",
    "            out = self.de4(out, f4)\n",
    "            out = self.de3(out, f3)\n",
    "            out = self.de2(out, f2)\n",
    "            out = self.de1(out, f1)\n",
    "            v = self.de_end(out)\n",
    "\n",
    "            v = v + x\n",
    "            x = self.reconnect(v, x, y, i)\n",
    "            \n",
    "        return x\n",
    "    \n",
    "    def reconnect(self, v, x, y, i):\n",
    "        i = i + 1\n",
    "        if i == 1:\n",
    "            delta = self.delta_1\n",
    "            eta = self.eta_1\n",
    "        if i == 2:\n",
    "            delta = self.delta_2\n",
    "            eta = self.eta_2\n",
    "        if i == 3:\n",
    "            delta = self.delta_3\n",
    "            eta = self.eta_3\n",
    "        if i == 4:\n",
    "            delta = self.delta_4\n",
    "            eta = self.eta_4\n",
    "        if i == 5:\n",
    "            delta = self.delta_5\n",
    "            eta = self.eta_5\n",
    "        if i == 6:\n",
    "            delta = self.delta_6\n",
    "            eta = self.eta_6\n",
    "        \n",
    "        recon = tf.multiply((1 - delta - eta), v) + tf.multiply(eta, x) + tf.multiply(delta, y)\n",
    "        return recon"
   ]
  },
  {
   "cell_type": "code",
   "execution_count": 5,
   "metadata": {},
   "outputs": [],
   "source": [
    "input_shape=(100, 128, 128, 1)"
   ]
  },
  {
   "cell_type": "code",
   "execution_count": 6,
   "metadata": {},
   "outputs": [],
   "source": [
    "model = DPDNN()"
   ]
  },
  {
   "cell_type": "code",
   "execution_count": 7,
   "metadata": {},
   "outputs": [
    {
     "name": "stdout",
     "output_type": "stream",
     "text": [
      "Model: \"dpdnn\"\n",
      "_________________________________________________________________\n",
      "Layer (type)                 Output Shape              Param #   \n",
      "=================================================================\n",
      "feature_encoder (FeatureEnco multiple                  111424    \n",
      "_________________________________________________________________\n",
      "feature_encoder_1 (FeatureEn multiple                  147712    \n",
      "_________________________________________________________________\n",
      "feature_encoder_2 (FeatureEn multiple                  147712    \n",
      "_________________________________________________________________\n",
      "feature_encoder_3 (FeatureEn multiple                  147712    \n",
      "_________________________________________________________________\n",
      "conv2d_16 (Conv2D)           multiple                  36928     \n",
      "_________________________________________________________________\n",
      "feature_decoder (FeatureDeco multiple                  192896    \n",
      "_________________________________________________________________\n",
      "feature_decoder_1 (FeatureDe multiple                  192896    \n",
      "_________________________________________________________________\n",
      "feature_decoder_2 (FeatureDe multiple                  192896    \n",
      "_________________________________________________________________\n",
      "feature_decoder_3 (FeatureDe multiple                  192896    \n",
      "_________________________________________________________________\n",
      "conv2d_37 (Conv2D)           multiple                  577       \n",
      "=================================================================\n",
      "Total params: 1,363,661\n",
      "Trainable params: 1,363,661\n",
      "Non-trainable params: 0\n",
      "_________________________________________________________________\n"
     ]
    }
   ],
   "source": [
    "adam = tf.keras.optimizers.Adam(learning_rate=1e-3, beta_1=0.9, beta_2=0.999, amsgrad=False)\n",
    "model.compile(optimizer=adam, loss='mean_squared_error', metrics=['mean_squared_error'])\n",
    "model.build(input_shape)\n",
    "model.summary()"
   ]
  },
  {
   "cell_type": "code",
   "execution_count": null,
   "metadata": {},
   "outputs": [],
   "source": []
  },
  {
   "cell_type": "code",
   "execution_count": null,
   "metadata": {},
   "outputs": [],
   "source": []
  },
  {
   "cell_type": "code",
   "execution_count": null,
   "metadata": {},
   "outputs": [],
   "source": []
  }
 ],
 "metadata": {
  "kernelspec": {
   "display_name": "venv-dpdnn",
   "language": "python",
   "name": "venv-dpdnn"
  },
  "language_info": {
   "codemirror_mode": {
    "name": "ipython",
    "version": 3
   },
   "file_extension": ".py",
   "mimetype": "text/x-python",
   "name": "python",
   "nbconvert_exporter": "python",
   "pygments_lexer": "ipython3",
   "version": "3.6.9"
  }
 },
 "nbformat": 4,
 "nbformat_minor": 2
}
